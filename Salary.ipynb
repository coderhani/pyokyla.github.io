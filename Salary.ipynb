{
 "cells": [
  {
   "cell_type": "markdown",
   "id": "1fcc6998-be1d-490e-b78e-d806cc1cab06",
   "metadata": {},
   "source": []
  },
  {
   "cell_type": "markdown",
   "id": "36b8471e-1ae4-446c-86a4-c8d4aa7f505d",
   "metadata": {},
   "source": [
    "In this exercise, you will have to analyze a dataset about some employees of a company\n",
    "(salary.csv). The data includes information about (i) years of experience of the employee, (ii) the age of\n",
    "the employee, and (iii) the salary of the employee. You need to write the code to answer the following\n",
    "questions to transform and understand the data further."
   ]
  },
  {
   "cell_type": "markdown",
   "id": "9207ef47-c582-42a8-8d19-7611c89cc05c",
   "metadata": {},
   "source": [
    "There are some missing values in the data. In the experience years column, replace all missing values\n",
    "by 3, and in the age column replace all the missing values by the mean of the column.\n"
   ]
  },
  {
   "cell_type": "code",
   "execution_count": 14,
   "id": "fa17b84b-c735-4bc1-b76e-916f209b04ed",
   "metadata": {},
   "outputs": [
    {
     "data": {
      "text/html": [
       "<div>\n",
       "<style scoped>\n",
       "    .dataframe tbody tr th:only-of-type {\n",
       "        vertical-align: middle;\n",
       "    }\n",
       "\n",
       "    .dataframe tbody tr th {\n",
       "        vertical-align: top;\n",
       "    }\n",
       "\n",
       "    .dataframe thead th {\n",
       "        text-align: right;\n",
       "    }\n",
       "</style>\n",
       "<table border=\"1\" class=\"dataframe\">\n",
       "  <thead>\n",
       "    <tr style=\"text-align: right;\">\n",
       "      <th></th>\n",
       "      <th>experience_years</th>\n",
       "      <th>age</th>\n",
       "      <th>salary</th>\n",
       "    </tr>\n",
       "  </thead>\n",
       "  <tbody>\n",
       "    <tr>\n",
       "      <th>0</th>\n",
       "      <td>1.1</td>\n",
       "      <td>NaN</td>\n",
       "      <td>39343</td>\n",
       "    </tr>\n",
       "    <tr>\n",
       "      <th>1</th>\n",
       "      <td>1.3</td>\n",
       "      <td>24.0</td>\n",
       "      <td>46205</td>\n",
       "    </tr>\n",
       "    <tr>\n",
       "      <th>2</th>\n",
       "      <td>1.5</td>\n",
       "      <td>28.7</td>\n",
       "      <td>37731</td>\n",
       "    </tr>\n",
       "    <tr>\n",
       "      <th>3</th>\n",
       "      <td>NaN</td>\n",
       "      <td>31.0</td>\n",
       "      <td>43525</td>\n",
       "    </tr>\n",
       "    <tr>\n",
       "      <th>4</th>\n",
       "      <td>2.2</td>\n",
       "      <td>NaN</td>\n",
       "      <td>39891</td>\n",
       "    </tr>\n",
       "    <tr>\n",
       "      <th>5</th>\n",
       "      <td>2.9</td>\n",
       "      <td>33.0</td>\n",
       "      <td>56642</td>\n",
       "    </tr>\n",
       "    <tr>\n",
       "      <th>6</th>\n",
       "      <td>3.0</td>\n",
       "      <td>NaN</td>\n",
       "      <td>60150</td>\n",
       "    </tr>\n",
       "    <tr>\n",
       "      <th>7</th>\n",
       "      <td>3.2</td>\n",
       "      <td>34.5</td>\n",
       "      <td>54445</td>\n",
       "    </tr>\n",
       "    <tr>\n",
       "      <th>8</th>\n",
       "      <td>NaN</td>\n",
       "      <td>28.3</td>\n",
       "      <td>64445</td>\n",
       "    </tr>\n",
       "    <tr>\n",
       "      <th>9</th>\n",
       "      <td>3.7</td>\n",
       "      <td>29.6</td>\n",
       "      <td>57189</td>\n",
       "    </tr>\n",
       "    <tr>\n",
       "      <th>10</th>\n",
       "      <td>3.9</td>\n",
       "      <td>28.9</td>\n",
       "      <td>63218</td>\n",
       "    </tr>\n",
       "    <tr>\n",
       "      <th>11</th>\n",
       "      <td>4.0</td>\n",
       "      <td>34.0</td>\n",
       "      <td>55794</td>\n",
       "    </tr>\n",
       "    <tr>\n",
       "      <th>12</th>\n",
       "      <td>4.0</td>\n",
       "      <td>29.5</td>\n",
       "      <td>56957</td>\n",
       "    </tr>\n",
       "    <tr>\n",
       "      <th>13</th>\n",
       "      <td>4.1</td>\n",
       "      <td>24.8</td>\n",
       "      <td>57081</td>\n",
       "    </tr>\n",
       "    <tr>\n",
       "      <th>14</th>\n",
       "      <td>4.5</td>\n",
       "      <td>35.0</td>\n",
       "      <td>61111</td>\n",
       "    </tr>\n",
       "    <tr>\n",
       "      <th>15</th>\n",
       "      <td>4.9</td>\n",
       "      <td>29.2</td>\n",
       "      <td>67938</td>\n",
       "    </tr>\n",
       "    <tr>\n",
       "      <th>16</th>\n",
       "      <td>NaN</td>\n",
       "      <td>26.0</td>\n",
       "      <td>66029</td>\n",
       "    </tr>\n",
       "    <tr>\n",
       "      <th>17</th>\n",
       "      <td>5.3</td>\n",
       "      <td>NaN</td>\n",
       "      <td>83088</td>\n",
       "    </tr>\n",
       "    <tr>\n",
       "      <th>18</th>\n",
       "      <td>5.9</td>\n",
       "      <td>28.0</td>\n",
       "      <td>81363</td>\n",
       "    </tr>\n",
       "    <tr>\n",
       "      <th>19</th>\n",
       "      <td>6.0</td>\n",
       "      <td>29.3</td>\n",
       "      <td>93940</td>\n",
       "    </tr>\n",
       "    <tr>\n",
       "      <th>20</th>\n",
       "      <td>6.8</td>\n",
       "      <td>33.2</td>\n",
       "      <td>91738</td>\n",
       "    </tr>\n",
       "    <tr>\n",
       "      <th>21</th>\n",
       "      <td>7.1</td>\n",
       "      <td>30.0</td>\n",
       "      <td>98273</td>\n",
       "    </tr>\n",
       "    <tr>\n",
       "      <th>22</th>\n",
       "      <td>NaN</td>\n",
       "      <td>31.4</td>\n",
       "      <td>101302</td>\n",
       "    </tr>\n",
       "    <tr>\n",
       "      <th>23</th>\n",
       "      <td>8.2</td>\n",
       "      <td>32.0</td>\n",
       "      <td>113812</td>\n",
       "    </tr>\n",
       "    <tr>\n",
       "      <th>24</th>\n",
       "      <td>8.7</td>\n",
       "      <td>NaN</td>\n",
       "      <td>109431</td>\n",
       "    </tr>\n",
       "    <tr>\n",
       "      <th>25</th>\n",
       "      <td>9.0</td>\n",
       "      <td>34.0</td>\n",
       "      <td>105582</td>\n",
       "    </tr>\n",
       "    <tr>\n",
       "      <th>26</th>\n",
       "      <td>NaN</td>\n",
       "      <td>35.0</td>\n",
       "      <td>116969</td>\n",
       "    </tr>\n",
       "    <tr>\n",
       "      <th>27</th>\n",
       "      <td>9.6</td>\n",
       "      <td>36.0</td>\n",
       "      <td>112635</td>\n",
       "    </tr>\n",
       "    <tr>\n",
       "      <th>28</th>\n",
       "      <td>10.3</td>\n",
       "      <td>37.0</td>\n",
       "      <td>122391</td>\n",
       "    </tr>\n",
       "    <tr>\n",
       "      <th>29</th>\n",
       "      <td>10.5</td>\n",
       "      <td>38.0</td>\n",
       "      <td>121872</td>\n",
       "    </tr>\n",
       "  </tbody>\n",
       "</table>\n",
       "</div>"
      ],
      "text/plain": [
       "    experience_years   age  salary\n",
       "0                1.1   NaN   39343\n",
       "1                1.3  24.0   46205\n",
       "2                1.5  28.7   37731\n",
       "3                NaN  31.0   43525\n",
       "4                2.2   NaN   39891\n",
       "5                2.9  33.0   56642\n",
       "6                3.0   NaN   60150\n",
       "7                3.2  34.5   54445\n",
       "8                NaN  28.3   64445\n",
       "9                3.7  29.6   57189\n",
       "10               3.9  28.9   63218\n",
       "11               4.0  34.0   55794\n",
       "12               4.0  29.5   56957\n",
       "13               4.1  24.8   57081\n",
       "14               4.5  35.0   61111\n",
       "15               4.9  29.2   67938\n",
       "16               NaN  26.0   66029\n",
       "17               5.3   NaN   83088\n",
       "18               5.9  28.0   81363\n",
       "19               6.0  29.3   93940\n",
       "20               6.8  33.2   91738\n",
       "21               7.1  30.0   98273\n",
       "22               NaN  31.4  101302\n",
       "23               8.2  32.0  113812\n",
       "24               8.7   NaN  109431\n",
       "25               9.0  34.0  105582\n",
       "26               NaN  35.0  116969\n",
       "27               9.6  36.0  112635\n",
       "28              10.3  37.0  122391\n",
       "29              10.5  38.0  121872"
      ]
     },
     "execution_count": 14,
     "metadata": {},
     "output_type": "execute_result"
    }
   ],
   "source": [
    "# Import the dataset\n",
    "salary = pd.read_csv('salary.csv')\n",
    "salary"
   ]
  },
  {
   "cell_type": "code",
   "execution_count": 15,
   "id": "1bcea401-8ffe-4145-92ba-a87176a0937e",
   "metadata": {},
   "outputs": [
    {
     "data": {
      "text/html": [
       "<div>\n",
       "<style scoped>\n",
       "    .dataframe tbody tr th:only-of-type {\n",
       "        vertical-align: middle;\n",
       "    }\n",
       "\n",
       "    .dataframe tbody tr th {\n",
       "        vertical-align: top;\n",
       "    }\n",
       "\n",
       "    .dataframe thead th {\n",
       "        text-align: right;\n",
       "    }\n",
       "</style>\n",
       "<table border=\"1\" class=\"dataframe\">\n",
       "  <thead>\n",
       "    <tr style=\"text-align: right;\">\n",
       "      <th></th>\n",
       "      <th>experience_years</th>\n",
       "      <th>age</th>\n",
       "      <th>salary</th>\n",
       "    </tr>\n",
       "  </thead>\n",
       "  <tbody>\n",
       "    <tr>\n",
       "      <th>0</th>\n",
       "      <td>1.1</td>\n",
       "      <td>NaN</td>\n",
       "      <td>39343</td>\n",
       "    </tr>\n",
       "    <tr>\n",
       "      <th>1</th>\n",
       "      <td>1.3</td>\n",
       "      <td>24.0</td>\n",
       "      <td>46205</td>\n",
       "    </tr>\n",
       "    <tr>\n",
       "      <th>2</th>\n",
       "      <td>1.5</td>\n",
       "      <td>28.7</td>\n",
       "      <td>37731</td>\n",
       "    </tr>\n",
       "    <tr>\n",
       "      <th>3</th>\n",
       "      <td>NaN</td>\n",
       "      <td>31.0</td>\n",
       "      <td>43525</td>\n",
       "    </tr>\n",
       "    <tr>\n",
       "      <th>4</th>\n",
       "      <td>2.2</td>\n",
       "      <td>NaN</td>\n",
       "      <td>39891</td>\n",
       "    </tr>\n",
       "  </tbody>\n",
       "</table>\n",
       "</div>"
      ],
      "text/plain": [
       "   experience_years   age  salary\n",
       "0               1.1   NaN   39343\n",
       "1               1.3  24.0   46205\n",
       "2               1.5  28.7   37731\n",
       "3               NaN  31.0   43525\n",
       "4               2.2   NaN   39891"
      ]
     },
     "execution_count": 15,
     "metadata": {},
     "output_type": "execute_result"
    }
   ],
   "source": [
    "# Check the types of variables in the dataset\n",
    "# gender and edu are categorical values while others are numerics\n",
    "salary.head()"
   ]
  },
  {
   "cell_type": "code",
   "execution_count": 16,
   "id": "8e6ba55a-f9cc-4715-80f8-a16672a4da20",
   "metadata": {},
   "outputs": [
    {
     "data": {
      "text/plain": [
       "(30, 3)"
      ]
     },
     "execution_count": 16,
     "metadata": {},
     "output_type": "execute_result"
    }
   ],
   "source": [
    "salary.shape"
   ]
  },
  {
   "cell_type": "code",
   "execution_count": 17,
   "id": "515cb057-d214-4053-9f42-cd85dd92f31c",
   "metadata": {},
   "outputs": [
    {
     "name": "stdout",
     "output_type": "stream",
     "text": [
      "<class 'pandas.core.frame.DataFrame'>\n",
      "RangeIndex: 30 entries, 0 to 29\n",
      "Data columns (total 3 columns):\n",
      " #   Column            Non-Null Count  Dtype  \n",
      "---  ------            --------------  -----  \n",
      " 0   experience_years  25 non-null     float64\n",
      " 1   age               25 non-null     float64\n",
      " 2   salary            30 non-null     int64  \n",
      "dtypes: float64(2), int64(1)\n",
      "memory usage: 848.0 bytes\n"
     ]
    }
   ],
   "source": [
    "salary.info()"
   ]
  },
  {
   "cell_type": "code",
   "execution_count": 18,
   "id": "f78a82bc-721d-48ee-9923-2b699040f0ce",
   "metadata": {},
   "outputs": [
    {
     "data": {
      "text/html": [
       "<div>\n",
       "<style scoped>\n",
       "    .dataframe tbody tr th:only-of-type {\n",
       "        vertical-align: middle;\n",
       "    }\n",
       "\n",
       "    .dataframe tbody tr th {\n",
       "        vertical-align: top;\n",
       "    }\n",
       "\n",
       "    .dataframe thead th {\n",
       "        text-align: right;\n",
       "    }\n",
       "</style>\n",
       "<table border=\"1\" class=\"dataframe\">\n",
       "  <thead>\n",
       "    <tr style=\"text-align: right;\">\n",
       "      <th></th>\n",
       "      <th>experience_years</th>\n",
       "      <th>age</th>\n",
       "      <th>salary</th>\n",
       "    </tr>\n",
       "  </thead>\n",
       "  <tbody>\n",
       "    <tr>\n",
       "      <th>count</th>\n",
       "      <td>25.000000</td>\n",
       "      <td>25.000000</td>\n",
       "      <td>30.000000</td>\n",
       "    </tr>\n",
       "    <tr>\n",
       "      <th>mean</th>\n",
       "      <td>5.268000</td>\n",
       "      <td>31.216000</td>\n",
       "      <td>76003.000000</td>\n",
       "    </tr>\n",
       "    <tr>\n",
       "      <th>std</th>\n",
       "      <td>2.841613</td>\n",
       "      <td>3.712892</td>\n",
       "      <td>27414.429785</td>\n",
       "    </tr>\n",
       "    <tr>\n",
       "      <th>min</th>\n",
       "      <td>1.100000</td>\n",
       "      <td>24.000000</td>\n",
       "      <td>37731.000000</td>\n",
       "    </tr>\n",
       "    <tr>\n",
       "      <th>25%</th>\n",
       "      <td>3.200000</td>\n",
       "      <td>28.900000</td>\n",
       "      <td>56720.750000</td>\n",
       "    </tr>\n",
       "    <tr>\n",
       "      <th>50%</th>\n",
       "      <td>4.500000</td>\n",
       "      <td>31.000000</td>\n",
       "      <td>65237.000000</td>\n",
       "    </tr>\n",
       "    <tr>\n",
       "      <th>75%</th>\n",
       "      <td>7.100000</td>\n",
       "      <td>34.000000</td>\n",
       "      <td>100544.750000</td>\n",
       "    </tr>\n",
       "    <tr>\n",
       "      <th>max</th>\n",
       "      <td>10.500000</td>\n",
       "      <td>38.000000</td>\n",
       "      <td>122391.000000</td>\n",
       "    </tr>\n",
       "  </tbody>\n",
       "</table>\n",
       "</div>"
      ],
      "text/plain": [
       "       experience_years        age         salary\n",
       "count         25.000000  25.000000      30.000000\n",
       "mean           5.268000  31.216000   76003.000000\n",
       "std            2.841613   3.712892   27414.429785\n",
       "min            1.100000  24.000000   37731.000000\n",
       "25%            3.200000  28.900000   56720.750000\n",
       "50%            4.500000  31.000000   65237.000000\n",
       "75%            7.100000  34.000000  100544.750000\n",
       "max           10.500000  38.000000  122391.000000"
      ]
     },
     "execution_count": 18,
     "metadata": {},
     "output_type": "execute_result"
    }
   ],
   "source": [
    "salary.describe()"
   ]
  },
  {
   "cell_type": "code",
   "execution_count": 19,
   "id": "f50ba41d-3ac6-4dc0-852f-20fb6ee3c627",
   "metadata": {},
   "outputs": [
    {
     "data": {
      "text/plain": [
       "0      1.1\n",
       "1      1.3\n",
       "2      1.5\n",
       "3      NaN\n",
       "4      2.2\n",
       "5      2.9\n",
       "6      3.0\n",
       "7      3.2\n",
       "8      NaN\n",
       "9      3.7\n",
       "10     3.9\n",
       "11     4.0\n",
       "12     4.0\n",
       "13     4.1\n",
       "14     4.5\n",
       "15     4.9\n",
       "16     NaN\n",
       "17     5.3\n",
       "18     5.9\n",
       "19     6.0\n",
       "20     6.8\n",
       "21     7.1\n",
       "22     NaN\n",
       "23     8.2\n",
       "24     8.7\n",
       "25     9.0\n",
       "26     NaN\n",
       "27     9.6\n",
       "28    10.3\n",
       "29    10.5\n",
       "Name: experience_years, dtype: float64"
      ]
     },
     "execution_count": 19,
     "metadata": {},
     "output_type": "execute_result"
    }
   ],
   "source": [
    "experience_data = pd.Series(salary['experience_years'])\n",
    "\n",
    "experience_data"
   ]
  },
  {
   "cell_type": "code",
   "execution_count": 20,
   "id": "2b411845-07b5-4bc3-8f9f-1cc051aab2ab",
   "metadata": {},
   "outputs": [
    {
     "data": {
      "text/plain": [
       "0     False\n",
       "1     False\n",
       "2     False\n",
       "3      True\n",
       "4     False\n",
       "5     False\n",
       "6     False\n",
       "7     False\n",
       "8      True\n",
       "9     False\n",
       "10    False\n",
       "11    False\n",
       "12    False\n",
       "13    False\n",
       "14    False\n",
       "15    False\n",
       "16     True\n",
       "17    False\n",
       "18    False\n",
       "19    False\n",
       "20    False\n",
       "21    False\n",
       "22     True\n",
       "23    False\n",
       "24    False\n",
       "25    False\n",
       "26     True\n",
       "27    False\n",
       "28    False\n",
       "29    False\n",
       "Name: experience_years, dtype: bool"
      ]
     },
     "execution_count": 20,
     "metadata": {},
     "output_type": "execute_result"
    }
   ],
   "source": [
    "experience_data.isnull()"
   ]
  },
  {
   "cell_type": "code",
   "execution_count": 21,
   "id": "23f2c367-0ba0-4a32-8a4b-cdc50fe4b338",
   "metadata": {},
   "outputs": [
    {
     "data": {
      "text/plain": [
       "5"
      ]
     },
     "execution_count": 21,
     "metadata": {},
     "output_type": "execute_result"
    }
   ],
   "source": [
    "# If we take the sum of the above expression, we get the number of missing values\n",
    "\n",
    "experience_data.isnull().sum()"
   ]
  },
  {
   "cell_type": "markdown",
   "id": "9feedc06-ece3-41b5-b755-9d7cdb12548c",
   "metadata": {},
   "source": [
    "As we can see it is 5"
   ]
  },
  {
   "cell_type": "code",
   "execution_count": 22,
   "id": "bd80e0fb-11a0-4f84-b5f3-d9345b401536",
   "metadata": {},
   "outputs": [
    {
     "data": {
      "text/plain": [
       "0      1.1\n",
       "1      1.3\n",
       "2      1.5\n",
       "3      3.0\n",
       "4      2.2\n",
       "5      2.9\n",
       "6      3.0\n",
       "7      3.2\n",
       "8      3.0\n",
       "9      3.7\n",
       "10     3.9\n",
       "11     4.0\n",
       "12     4.0\n",
       "13     4.1\n",
       "14     4.5\n",
       "15     4.9\n",
       "16     3.0\n",
       "17     5.3\n",
       "18     5.9\n",
       "19     6.0\n",
       "20     6.8\n",
       "21     7.1\n",
       "22     3.0\n",
       "23     8.2\n",
       "24     8.7\n",
       "25     9.0\n",
       "26     3.0\n",
       "27     9.6\n",
       "28    10.3\n",
       "29    10.5\n",
       "Name: experience_years, dtype: float64"
      ]
     },
     "execution_count": 22,
     "metadata": {},
     "output_type": "execute_result"
    }
   ],
   "source": [
    "experience_data.fillna(3)"
   ]
  },
  {
   "cell_type": "markdown",
   "id": "df88d28d-77ac-45ee-be0a-0aeebf203e69",
   "metadata": {},
   "source": [
    "----in the age column replace all the missing values by the mean of the column"
   ]
  },
  {
   "cell_type": "code",
   "execution_count": 23,
   "id": "e79ed09e-b686-4e85-8462-0f1780fb45aa",
   "metadata": {},
   "outputs": [
    {
     "data": {
      "text/plain": [
       "0      NaN\n",
       "1     24.0\n",
       "2     28.7\n",
       "3     31.0\n",
       "4      NaN\n",
       "5     33.0\n",
       "6      NaN\n",
       "7     34.5\n",
       "8     28.3\n",
       "9     29.6\n",
       "10    28.9\n",
       "11    34.0\n",
       "12    29.5\n",
       "13    24.8\n",
       "14    35.0\n",
       "15    29.2\n",
       "16    26.0\n",
       "17     NaN\n",
       "18    28.0\n",
       "19    29.3\n",
       "20    33.2\n",
       "21    30.0\n",
       "22    31.4\n",
       "23    32.0\n",
       "24     NaN\n",
       "25    34.0\n",
       "26    35.0\n",
       "27    36.0\n",
       "28    37.0\n",
       "29    38.0\n",
       "Name: age, dtype: float64"
      ]
     },
     "execution_count": 23,
     "metadata": {},
     "output_type": "execute_result"
    }
   ],
   "source": [
    "age_data = pd.Series(salary['age'])\n",
    "\n",
    "age_data"
   ]
  },
  {
   "cell_type": "code",
   "execution_count": 24,
   "id": "d773b4d2-bb32-4acd-ab7a-2a67b34345b0",
   "metadata": {},
   "outputs": [
    {
     "data": {
      "text/plain": [
       "0     31.216\n",
       "1     24.000\n",
       "2     28.700\n",
       "3     31.000\n",
       "4     31.216\n",
       "5     33.000\n",
       "6     31.216\n",
       "7     34.500\n",
       "8     28.300\n",
       "9     29.600\n",
       "10    28.900\n",
       "11    34.000\n",
       "12    29.500\n",
       "13    24.800\n",
       "14    35.000\n",
       "15    29.200\n",
       "16    26.000\n",
       "17    31.216\n",
       "18    28.000\n",
       "19    29.300\n",
       "20    33.200\n",
       "21    30.000\n",
       "22    31.400\n",
       "23    32.000\n",
       "24    31.216\n",
       "25    34.000\n",
       "26    35.000\n",
       "27    36.000\n",
       "28    37.000\n",
       "29    38.000\n",
       "Name: age, dtype: float64"
      ]
     },
     "execution_count": 24,
     "metadata": {},
     "output_type": "execute_result"
    }
   ],
   "source": [
    "age_data.fillna(age_data.mean())"
   ]
  },
  {
   "cell_type": "code",
   "execution_count": 25,
   "id": "819cb2a6-122b-4524-949f-fcc4a996f290",
   "metadata": {},
   "outputs": [],
   "source": [
    "salary['age'].fillna(int(salary['age'].mean()), inplace=True)\n",
    "salary['experience_years'].fillna(3, inplace=True)"
   ]
  },
  {
   "cell_type": "code",
   "execution_count": 26,
   "id": "fb6e13e9-ca0f-4e0f-bddb-eb0410c76df2",
   "metadata": {},
   "outputs": [
    {
     "name": "stdout",
     "output_type": "stream",
     "text": [
      "    experience_years   age  salary\n",
      "0                1.1  31.0   39343\n",
      "1                1.3  24.0   46205\n",
      "2                1.5  28.7   37731\n",
      "3                3.0  31.0   43525\n",
      "4                2.2  31.0   39891\n",
      "5                2.9  33.0   56642\n",
      "6                3.0  31.0   60150\n",
      "7                3.2  34.5   54445\n",
      "8                3.0  28.3   64445\n",
      "9                3.7  29.6   57189\n",
      "10               3.9  28.9   63218\n",
      "11               4.0  34.0   55794\n",
      "12               4.0  29.5   56957\n",
      "13               4.1  24.8   57081\n",
      "14               4.5  35.0   61111\n",
      "15               4.9  29.2   67938\n",
      "16               3.0  26.0   66029\n",
      "17               5.3  31.0   83088\n",
      "18               5.9  28.0   81363\n",
      "19               6.0  29.3   93940\n",
      "20               6.8  33.2   91738\n",
      "21               7.1  30.0   98273\n",
      "22               3.0  31.4  101302\n",
      "23               8.2  32.0  113812\n",
      "24               8.7  31.0  109431\n",
      "25               9.0  34.0  105582\n",
      "26               3.0  35.0  116969\n",
      "27               9.6  36.0  112635\n",
      "28              10.3  37.0  122391\n",
      "29              10.5  38.0  121872\n"
     ]
    }
   ],
   "source": [
    "print(salary)"
   ]
  },
  {
   "cell_type": "markdown",
   "id": "ccad0eb5-fdd3-46fc-8901-c09961c2ade9",
   "metadata": {},
   "source": [
    "Check the correlation between the columns of the data. Based on the results, check, does experience or age impact salary more?"
   ]
  },
  {
   "cell_type": "markdown",
   "id": "b814634a-a2a6-4c7a-8aa2-e318b6cd3eaa",
   "metadata": {},
   "source": [
    "   - Check the correlation between the columns of the data"
   ]
  },
  {
   "cell_type": "code",
   "execution_count": 27,
   "id": "b9238b2b-1464-43f0-a4a4-4912b31463ae",
   "metadata": {},
   "outputs": [
    {
     "data": {
      "text/html": [
       "<div>\n",
       "<style scoped>\n",
       "    .dataframe tbody tr th:only-of-type {\n",
       "        vertical-align: middle;\n",
       "    }\n",
       "\n",
       "    .dataframe tbody tr th {\n",
       "        vertical-align: top;\n",
       "    }\n",
       "\n",
       "    .dataframe thead th {\n",
       "        text-align: right;\n",
       "    }\n",
       "</style>\n",
       "<table border=\"1\" class=\"dataframe\">\n",
       "  <thead>\n",
       "    <tr style=\"text-align: right;\">\n",
       "      <th></th>\n",
       "      <th>experience_years</th>\n",
       "      <th>age</th>\n",
       "      <th>salary</th>\n",
       "    </tr>\n",
       "  </thead>\n",
       "  <tbody>\n",
       "    <tr>\n",
       "      <th>experience_years</th>\n",
       "      <td>1.000000</td>\n",
       "      <td>0.535703</td>\n",
       "      <td>0.834603</td>\n",
       "    </tr>\n",
       "    <tr>\n",
       "      <th>age</th>\n",
       "      <td>0.535703</td>\n",
       "      <td>1.000000</td>\n",
       "      <td>0.523353</td>\n",
       "    </tr>\n",
       "    <tr>\n",
       "      <th>salary</th>\n",
       "      <td>0.834603</td>\n",
       "      <td>0.523353</td>\n",
       "      <td>1.000000</td>\n",
       "    </tr>\n",
       "  </tbody>\n",
       "</table>\n",
       "</div>"
      ],
      "text/plain": [
       "                  experience_years       age    salary\n",
       "experience_years          1.000000  0.535703  0.834603\n",
       "age                       0.535703  1.000000  0.523353\n",
       "salary                    0.834603  0.523353  1.000000"
      ]
     },
     "execution_count": 27,
     "metadata": {},
     "output_type": "execute_result"
    }
   ],
   "source": [
    "salary.corr()"
   ]
  },
  {
   "cell_type": "code",
   "execution_count": 28,
   "id": "b6a79712-bd3b-4eae-9a33-700299ccfc83",
   "metadata": {},
   "outputs": [
    {
     "name": "stdout",
     "output_type": "stream",
     "text": [
      "correlation between Experience years and Age is 0.5357028471981783\n"
     ]
    }
   ],
   "source": [
    "#Calculate the correlation between Experience years\tand Age\n",
    "exp_age=salary['experience_years'].corr(salary['age'])\n",
    "print('correlation between Experience years and Age is', exp_age)"
   ]
  },
  {
   "cell_type": "code",
   "execution_count": 29,
   "id": "46424504-2ff7-4a1d-8dfb-b3b4e437a92b",
   "metadata": {},
   "outputs": [
    {
     "name": "stdout",
     "output_type": "stream",
     "text": [
      "correlation between Experience years and Salary is 0.8346030993050744\n"
     ]
    }
   ],
   "source": [
    "#Calculate the correlation between Experience years\tand Salary\n",
    "exp_salary=salary['experience_years'].corr(salary['salary'])\n",
    "print('correlation between Experience years and Salary is', exp_salary)"
   ]
  },
  {
   "cell_type": "code",
   "execution_count": 30,
   "id": "9ecfcb78-08aa-4f7f-b36b-64e5871ab008",
   "metadata": {},
   "outputs": [
    {
     "name": "stdout",
     "output_type": "stream",
     "text": [
      "correlation between Salary and Age is 0.523352990905591\n"
     ]
    }
   ],
   "source": [
    "#Calculate the correlation between Salary years\tand Age\n",
    "salary_age=salary['salary'].corr(salary['age'])\n",
    "print('correlation between Salary and Age is', salary_age)"
   ]
  },
  {
   "cell_type": "markdown",
   "id": "ca2bed3e-2e8e-451c-a952-dbe666ff5103",
   "metadata": {},
   "source": [
    "???Based on the results, what is your opinion, does experience or age impact salary more?"
   ]
  },
  {
   "cell_type": "code",
   "execution_count": 31,
   "id": "4a010b68-fcc1-499f-8205-780ee785274b",
   "metadata": {},
   "outputs": [
    {
     "data": {
      "text/plain": [
       "array([[1.        , 0.53570285],\n",
       "       [0.53570285, 1.        ]])"
      ]
     },
     "execution_count": 31,
     "metadata": {},
     "output_type": "execute_result"
    }
   ],
   "source": [
    "np.corrcoef(salary['experience_years'], salary['age'])"
   ]
  },
  {
   "cell_type": "markdown",
   "id": "df4675ab-d6bf-4d17-ac8e-3f67f1522c42",
   "metadata": {},
   "source": [
    " --->>>Correlation coefficients whose magnitude are between 0.7 and 0.9 indicate variables which can be considered highly correlated. Correlation coefficients whose magnitude are between 0.5 and 0.7 indicate variables which can be considered moderately correlated"
   ]
  },
  {
   "cell_type": "code",
   "execution_count": 32,
   "id": "b4e974b0-7d3d-4725-b28a-d19e47a2f16c",
   "metadata": {},
   "outputs": [
    {
     "data": {
      "text/plain": [
       "LinregressResult(slope=0.6643869031301838, intercept=27.9311480436934, rvalue=0.5357028471981783, pvalue=0.002281606945714231, stderr=0.1979108925555436)"
      ]
     },
     "execution_count": 32,
     "metadata": {},
     "output_type": "execute_result"
    }
   ],
   "source": [
    "from scipy.stats import linregress\n",
    "linregress(salary['experience_years'], salary['age'])"
   ]
  },
  {
   "cell_type": "markdown",
   "id": "e50ee615-7bc7-4f0a-9d2b-0e38f77276bd",
   "metadata": {},
   "source": [
    "Since the p-value of 0.0022 is smaller than 0.05, we reject the null hypothesis that the relationship between the age and their work experience is not significant."
   ]
  },
  {
   "cell_type": "code",
   "execution_count": null,
   "id": "1cde6b60-09f6-4dd9-82fc-5927707ae87f",
   "metadata": {},
   "outputs": [],
   "source": []
  },
  {
   "cell_type": "markdown",
   "id": "d21a5b35-e41f-4832-85fb-42746fb18675",
   "metadata": {},
   "source": [
    "- Create a categorical version of the salary column with 3 groups: (i) values between 0 and 55000, (ii)\n",
    "values between 55000 and 90000, (iii) values between 90000 and 125000. Label the groups [’Low’,\n",
    "’Medium’, ’High’]. Calculate the average age of employees who have High salary."
   ]
  },
  {
   "cell_type": "code",
   "execution_count": 33,
   "id": "c3e32676-34c5-44b2-84b6-e92c0563e923",
   "metadata": {},
   "outputs": [
    {
     "name": "stdout",
     "output_type": "stream",
     "text": [
      "Group LOW    experience_years   age  salary\n",
      "0               1.1  31.0   39343\n",
      "1               1.3  24.0   46205\n",
      "2               1.5  28.7   37731\n",
      "3               3.0  31.0   43525\n",
      "4               2.2  31.0   39891\n",
      "7               3.2  34.5   54445\n",
      "Group MEDIUM     experience_years   age  salary\n",
      "5                2.9  33.0   56642\n",
      "6                3.0  31.0   60150\n",
      "8                3.0  28.3   64445\n",
      "9                3.7  29.6   57189\n",
      "10               3.9  28.9   63218\n",
      "11               4.0  34.0   55794\n",
      "12               4.0  29.5   56957\n",
      "13               4.1  24.8   57081\n",
      "14               4.5  35.0   61111\n",
      "15               4.9  29.2   67938\n",
      "16               3.0  26.0   66029\n",
      "17               5.3  31.0   83088\n",
      "18               5.9  28.0   81363\n",
      "Group HIGH     experience_years   age  salary\n",
      "19               6.0  29.3   93940\n",
      "20               6.8  33.2   91738\n",
      "21               7.1  30.0   98273\n",
      "22               3.0  31.4  101302\n",
      "23               8.2  32.0  113812\n",
      "24               8.7  31.0  109431\n",
      "25               9.0  34.0  105582\n",
      "26               3.0  35.0  116969\n",
      "27               9.6  36.0  112635\n",
      "28              10.3  37.0  122391\n",
      "29              10.5  38.0  121872\n"
     ]
    }
   ],
   "source": [
    "Low=salary[(salary['salary']>0) & (salary['salary']<55000)]\n",
    "Medium=salary[(salary['salary']>55000) & (salary['salary']<90000)]\n",
    "High=salary[(salary['salary']>90000) & (salary['salary']<125000)]\n",
    "print ('Group LOW', \n",
    "       Low)\n",
    "print ('Group MEDIUM', \n",
    "       Medium)\n",
    "print ('Group HIGH', \n",
    "       High)"
   ]
  },
  {
   "cell_type": "markdown",
   "id": "6f02c1d6-9c11-4379-a588-6ed4b8a9e29f",
   "metadata": {},
   "source": [
    "- Calculate the average age of employees who have High salary"
   ]
  },
  {
   "cell_type": "code",
   "execution_count": 34,
   "id": "1d42b6e4-ec65-4b53-82cb-cf742ec39e1b",
   "metadata": {},
   "outputs": [
    {
     "name": "stdout",
     "output_type": "stream",
     "text": [
      "The average age of employees who have High salary:\n"
     ]
    },
    {
     "data": {
      "text/plain": [
       "33.35454545454545"
      ]
     },
     "execution_count": 34,
     "metadata": {},
     "output_type": "execute_result"
    }
   ],
   "source": [
    "print('The average age of employees who have High salary:')\n",
    "High[\"age\"].mean()"
   ]
  }
 ],
 "metadata": {
  "kernelspec": {
   "display_name": "Python 3 (ipykernel)",
   "language": "python",
   "name": "python3"
  },
  "language_info": {
   "codemirror_mode": {
    "name": "ipython",
    "version": 3
   },
   "file_extension": ".py",
   "mimetype": "text/x-python",
   "name": "python",
   "nbconvert_exporter": "python",
   "pygments_lexer": "ipython3",
   "version": "3.9.7"
  }
 },
 "nbformat": 4,
 "nbformat_minor": 5
}
